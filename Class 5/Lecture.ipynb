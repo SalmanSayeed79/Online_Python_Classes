{
 "cells": [
  {
   "cell_type": "code",
   "execution_count": null,
   "metadata": {},
   "outputs": [],
   "source": [
    "# Calculator\n",
    "while(True):\n",
    "    print(\"Choose your option :\")\n",
    "\n",
    "    print(\"1.Addition\")\n",
    "    print(\"2.Subtraction\")\n",
    "    print(\"3.Multiplication\")\n",
    "    print(\"4.Power\")\n",
    "    print(\"5.Division\")\n",
    "    print(\"6.Mod\")\n",
    "    print(\"7.OFF\")\n",
    "    print(\"______________________\")\n",
    "\n",
    "    option =input(\":\")\n",
    "\n",
    "    match option:\n",
    "        case\"1\":\n",
    "            num1=int(input(\"enter your 1st number: \"))\n",
    "            num2=int(input(\"enter your 2nd number: \"))\n",
    "            sum=(num1+num2)\n",
    "            print(sum)\n",
    "        case\"2\":\n",
    "            num1=int(input(\"enter your 1st number: \"))\n",
    "            num2=int(input(\"enter your 2nd number: \"))\n",
    "            subtraction=(num1-num2)\n",
    "            print(subtraction)\n",
    "        case\"3\":\n",
    "            num1=int(input(\"enter your 1st number: \"))\n",
    "            num2=int(input(\"enter your 2nd number: \"))\n",
    "            multiplication=(num1*num2)\n",
    "            print(multiplication)\n",
    "        case\"4\":\n",
    "            num1=int(input(\"enter your 1st number: \"))\n",
    "            num2=int(input(\"enter your 2nd number: \"))\n",
    "            power=(num1**num2)\n",
    "            print(power)\n",
    "        case\"5\":\n",
    "            num1=int(input(\"enter your 1st number: \"))\n",
    "            num2=int(input(\"enter your 2nd number: \"))\n",
    "            division=(num1/num2)\n",
    "            print(division)\n",
    "        case\"6\":\n",
    "            num1=int(input(\"enter your 1st number: \"))\n",
    "            num2=int(input(\"enter your 2nd number: \"))\n",
    "            mod=(num1%num2)\n",
    "            print(mod)\n",
    "        case\"7\":\n",
    "            break\n",
    "        case _:\n",
    "            print(\"Invalid option\")\n",
    "            \n",
    "print(\"The calculator has been turned off!\")\n"
   ]
  },
  {
   "cell_type": "markdown",
   "metadata": {},
   "source": [
    "Problems if we don't use functions:\n",
    "1. We would have to write the same code many times\n",
    "2. Changes in one place would propagate everywhere\n"
   ]
  },
  {
   "cell_type": "code",
   "execution_count": 3,
   "metadata": {},
   "outputs": [],
   "source": [
    "def inputHandler():\n",
    "    num1=int(input(\"enter your 1st number: \"))\n",
    "    num2=int(input(\"enter your 2nd number: \"))\n",
    "    return num1,num2"
   ]
  },
  {
   "cell_type": "code",
   "execution_count": 4,
   "metadata": {},
   "outputs": [
    {
     "name": "stdout",
     "output_type": "stream",
     "text": [
      "Choose your option :\n",
      "1.Addition\n",
      "2.Subtraction\n",
      "3.Multiplication\n",
      "4.Power\n",
      "5.Division\n",
      "6.Mod\n",
      "7.OFF\n",
      "______________________\n"
     ]
    }
   ],
   "source": [
    "# Calculator\n",
    "while(True):\n",
    "    print(\"Choose your option :\")\n",
    "\n",
    "    print(\"1.Addition\")\n",
    "    print(\"2.Subtraction\")\n",
    "    print(\"3.Multiplication\")\n",
    "    print(\"4.Power\")\n",
    "    print(\"5.Division\")\n",
    "    print(\"6.Mod\")\n",
    "    print(\"7.OFF\")\n",
    "    print(\"______________________\")\n",
    "\n",
    "    option =input(\":\")\n",
    "\n",
    "    match option:\n",
    "        case\"1\":\n",
    "            num1,num2=inputHandler()\n",
    "            print(sum)\n",
    "        case\"2\":\n",
    "            num1,num2=inputHandler()\n",
    "            subtraction=(num1-num2)\n",
    "            print(subtraction)\n",
    "        case\"3\":\n",
    "            num1,num2=inputHandler()\n",
    "            multiplication=(num1*num2)\n",
    "            print(multiplication)\n",
    "        case\"4\":\n",
    "            num1,num2=inputHandler()\n",
    "            power=(num1**num2)\n",
    "            print(power)\n",
    "        case\"5\":\n",
    "            num1,num2=inputHandler()\n",
    "            division=(num1/num2)\n",
    "            print(division)\n",
    "        case\"6\":\n",
    "            num1,num2=inputHandler()\n",
    "            mod=(num1%num2)\n",
    "            print(mod)\n",
    "        case\"7\":\n",
    "            break\n",
    "        case _:\n",
    "            print(\"Invalid option\")\n",
    "            \n",
    "print(\"The calculator has been turned off!\")\n"
   ]
  },
  {
   "cell_type": "markdown",
   "metadata": {},
   "source": [
    "### Structre of a function\n",
    "- **Name**\n",
    "- **Parameter List** - The values that we will work with in this function [optional]\n",
    "- **Return Value** [optional]"
   ]
  },
  {
   "cell_type": "code",
   "execution_count": null,
   "metadata": {},
   "outputs": [],
   "source": [
    "# y=2x+3 =>f(x) \n",
    "# f(x,y) x**2+y**2=5\n",
    "\n",
    "def game(x):\n",
    "    retVal=2*x+3\n",
    "    print(retVal)\n",
    "    return retVal\n",
    "    "
   ]
  },
  {
   "cell_type": "code",
   "execution_count": 1,
   "metadata": {},
   "outputs": [
    {
     "name": "stdout",
     "output_type": "stream",
     "text": [
      "8\n"
     ]
    }
   ],
   "source": [
    "def addition(n1,n2):\n",
    "    print(n1+n2)\n",
    "    \n",
    "addition(5,3)"
   ]
  },
  {
   "cell_type": "code",
   "execution_count": 5,
   "metadata": {},
   "outputs": [
    {
     "data": {
      "text/plain": [
       "10"
      ]
     },
     "execution_count": 5,
     "metadata": {},
     "output_type": "execute_result"
    }
   ],
   "source": [
    "retVal=1000\n",
    "def addition2(n1,n2):\n",
    "    retVal=2\n",
    "    retVal2=n1+n2+retVal\n",
    "    return retVal2\n",
    "\n",
    "addition2(5,3)"
   ]
  }
 ],
 "metadata": {
  "kernelspec": {
   "display_name": "Python 3",
   "language": "python",
   "name": "python3"
  },
  "language_info": {
   "codemirror_mode": {
    "name": "ipython",
    "version": 3
   },
   "file_extension": ".py",
   "mimetype": "text/x-python",
   "name": "python",
   "nbconvert_exporter": "python",
   "pygments_lexer": "ipython3",
   "version": "3.11.2"
  }
 },
 "nbformat": 4,
 "nbformat_minor": 2
}
