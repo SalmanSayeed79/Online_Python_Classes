{
 "cells": [
  {
   "cell_type": "code",
   "execution_count": 22,
   "metadata": {},
   "outputs": [
    {
     "data": {
      "text/plain": [
       "'red'"
      ]
     },
     "execution_count": 22,
     "metadata": {},
     "output_type": "execute_result"
    }
   ],
   "source": [
    "### Dictionaries\n",
    "arr = [\"abc\",12,5.76,True]\n",
    "arr[0]\n",
    "arr[2]=2\n",
    "\n",
    "## Box -> length, color, content\n",
    "box1={\n",
    "    \"length\" : 15,\n",
    "    \"color\" : \"red\",\n",
    "    \"content\" : [\"apples\",\"oranges\",\"peaches\"],\n",
    "    \"owner\" : {\n",
    "        \"first\":\"mario\",\n",
    "        \"second\":\"luigi\"\n",
    "    }\n",
    "}\n",
    "box2={\n",
    "    \"length\" : 15,\n",
    "    \"content\" : [\"apples\",\"oranges\",\"peaches\"],\n",
    "    \"owner\" : {\n",
    "        \"first\":\"mario\",\n",
    "        \"second\":\"luigi\"\n",
    "    }\n",
    "}\n",
    "# Key # Value Key value pair -> js= JSON java,cpp=MAP\n",
    "box1[\"length\"]\n",
    "#box1[True]\n",
    "\n",
    "# keys values items\n",
    "box1.keys()\n",
    "box1.values()\n",
    "box1.items()\n",
    "\n",
    "box1.get(\"color\",\"n/a\")\n",
    "   "
   ]
  },
  {
   "cell_type": "code",
   "execution_count": 37,
   "metadata": {},
   "outputs": [
    {
     "data": {
      "text/plain": [
       "[234, 1231, 123]"
      ]
     },
     "execution_count": 37,
     "metadata": {},
     "output_type": "execute_result"
    }
   ],
   "source": [
    "# 2D List/Matrix\n",
    "\n",
    "lst=[12,123,45,234]\n",
    "twoDList=[\n",
    "    [[\" \",\"fdasf\"],\"O\",\"X\"],  \n",
    "    [\" \",\"X\",\"X\"] \n",
    "]\n",
    "for item in twoDList:\n",
    "    for item2 in item:\n",
    "        a=item\n",
    "    #print()\n",
    "twoDList[0][0][1]\n"
   ]
  },
  {
   "cell_type": "code",
   "execution_count": 40,
   "metadata": {},
   "outputs": [
    {
     "data": {
      "text/plain": [
       "[213,\n",
       " 123,\n",
       " 21,\n",
       " 321,\n",
       " 312,\n",
       " 3,\n",
       " 2345,\n",
       " 34,\n",
       " 5,\n",
       " 456456,\n",
       " 7,\n",
       " 67,\n",
       " 8,\n",
       " 76,\n",
       " 578,\n",
       " 56,\n",
       " 3645,\n",
       " 6]"
      ]
     },
     "execution_count": 40,
     "metadata": {},
     "output_type": "execute_result"
    }
   ],
   "source": [
    "lst=[12,123,45,234,123,213,123,21,321,312,3,2345,34,5,456456,7,67,8,76,578,56,3645,6]\n",
    "lst[5:]"
   ]
  },
  {
   "cell_type": "markdown",
   "metadata": {},
   "source": []
  }
 ],
 "metadata": {
  "kernelspec": {
   "display_name": "Python 3",
   "language": "python",
   "name": "python3"
  },
  "language_info": {
   "codemirror_mode": {
    "name": "ipython",
    "version": 3
   },
   "file_extension": ".py",
   "mimetype": "text/x-python",
   "name": "python",
   "nbconvert_exporter": "python",
   "pygments_lexer": "ipython3",
   "version": "3.11.2"
  }
 },
 "nbformat": 4,
 "nbformat_minor": 2
}
