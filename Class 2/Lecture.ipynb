{
 "cells": [
  {
   "cell_type": "markdown",
   "metadata": {},
   "source": [
    "## Branching in python\n",
    "- if\n",
    "- if-else\n",
    "- if-elif\n",
    "- switch-case"
   ]
  },
  {
   "cell_type": "code",
   "execution_count": null,
   "metadata": {},
   "outputs": [],
   "source": [
    "# Odd/Even detector\n",
    "ipVal=int(input(\"Enter your number : \"))\n"
   ]
  },
  {
   "cell_type": "markdown",
   "metadata": {},
   "source": [
    "## IF \n",
    "\n",
    "```python\n",
    "if(CONDITION RETURNS BOOELAN){\n",
    "    //WHAT YOU WANT TO DO\n",
    "}\n",
    "```"
   ]
  },
  {
   "cell_type": "code",
   "execution_count": null,
   "metadata": {},
   "outputs": [],
   "source": [
    "# Odd/Even detector using if-elif\n",
    "ipVal=int(input(\"Enter your number : \"))\n",
    "\n",
    "if(ipVal%2==1 and ipVal>=0):\n",
    "   print(\"Your number is a postive ODD number\")\n",
    "elif(ipVal%3==0):\n",
    "    print(\"Number is divisible by 3\")\n",
    "elif(ipVal%5==0):\n",
    "   print(\"Number is divisible by 3\")\n",
    "else:\n",
    "   print(\"Your number is EVEN\")\n"
   ]
  },
  {
   "cell_type": "code",
   "execution_count": null,
   "metadata": {},
   "outputs": [],
   "source": [
    "# Odd/Even detector using only if-else\n",
    "ipVal=int(input(\"Enter your number : \"))\n",
    "\n",
    "if(ipVal%2==1 and ipVal>=0):\n",
    "   print(\"Your number is a postive ODD number\")\n",
    "if(ipVal%3==0):\n",
    "    print(\"Number is divisible by 3\")\n",
    "if(ipVal%5==0):\n",
    "   print(\"Number is divisible by 5\")\n",
    "else:\n",
    "   print(\"Your number is EVEN\")"
   ]
  },
  {
   "cell_type": "code",
   "execution_count": null,
   "metadata": {},
   "outputs": [],
   "source": [
    "#Swtich-case\n",
    "favGame=input(\"Enter your favourite game : \")\n",
    "\n",
    "# if(favGame==\"cricket\"):\n",
    "#     print(\"Sakib Al Hassan\")\n",
    "# elif(favGame==\"football\"):\n",
    "#     print(\"Messi\")\n",
    "# elif(favGame==\"basketball\"):\n",
    "#     print(\"Micheal Jordan\")\n",
    "# else:\n",
    "#     print(\"Your game was not found\")\n",
    "\n",
    "match favGame:\n",
    "    case 'cricket':\n",
    "        print(\"Sakib Al Hassan\")\n",
    "    case 'football':\n",
    "        print(\"Messi\")\n",
    "    case 'basketball':\n",
    "        print(\"Micheal Jordan\")\n",
    "    case _:\n",
    "        print(\"Your game was not found\")\n"
   ]
  },
  {
   "cell_type": "code",
   "execution_count": null,
   "metadata": {},
   "outputs": [],
   "source": [
    "## GCD AND LCM Calculation application \n",
    "## Make a calculator app (+,-,*,**,/,%) using switch-case"
   ]
  }
 ],
 "metadata": {
  "language_info": {
   "name": "python"
  }
 },
 "nbformat": 4,
 "nbformat_minor": 2
}
