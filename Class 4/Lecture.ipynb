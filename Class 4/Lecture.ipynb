{
 "cells": [
  {
   "cell_type": "markdown",
   "metadata": {},
   "source": [
    "### Why did we come up with lists?\n",
    "1. When we have too many data to work with, its not reasonable to declare a variable for each of them\n",
    "2. When we don't know how much data we will have\n",
    "\n",
    "- The name of the varible is same. But we can store multiple data in it. \n",
    "\n",
    "### Enumeration DS\n",
    "1. Stack(LIFO)\n",
    "2. Queue(FIFO)"
   ]
  },
  {
   "cell_type": "code",
   "execution_count": 8,
   "metadata": {},
   "outputs": [
    {
     "name": "stdout",
     "output_type": "stream",
     "text": [
      "[1, 'two', 3, 4.0, 5]\n",
      "5\n",
      "[1, 'two', 3, 4.0, 5, 6]\n",
      "[1, 'two', 3, 4.0, 5]\n",
      "['one', 'two', 3, 4.0, 5]\n",
      "two\n",
      "['one', 5, 'two', 3, 4.0, 5]\n"
     ]
    }
   ],
   "source": [
    "## List\n",
    "a=[1,\"two\",3,4.0,5]\n",
    "print(a)\n",
    "\n",
    "print(len(a))\n",
    "\n",
    "a.append(6) ## Works like a queue\n",
    "print(a)\n",
    "\n",
    "a.pop() ## Works as a stack\n",
    "print(a)\n",
    "\n",
    "## Array indexing\n",
    "a[0] = \"one\"\n",
    "second=a[1]\n",
    "a[2]\n",
    "a[3]\n",
    "a[4]\n",
    "print(a)\n",
    "print(second)\n",
    "\n",
    "a.insert(1,5)\n",
    "print(a)\n",
    "\n"
   ]
  },
  {
   "cell_type": "code",
   "execution_count": 15,
   "metadata": {},
   "outputs": [
    {
     "name": "stdout",
     "output_type": "stream",
     "text": [
      "91\n",
      "154\n",
      "91\n",
      "117\n",
      "154\n",
      "1\n",
      "4\n",
      "7\n"
     ]
    }
   ],
   "source": [
    "lst=[1,4,1,3,4]\n",
    "for item in lst:\n",
    "    print(item**3+90)\n",
    "\n",
    "special_list=range(5) # 0 1 2 3 4\n",
    "special_list=range(2,5) # 2 3 4\n",
    "special_list=range(1,10,3) # 1 4 7 \n",
    "for item in special_list:\n",
    "    print(item)"
   ]
  },
  {
   "cell_type": "markdown",
   "metadata": {},
   "source": [
    "## homework\n",
    "#### Classroom application\n",
    "- Enter the classroom with your roll number\n",
    "- Exit classes\n",
    "- See current students"
   ]
  }
 ],
 "metadata": {
  "kernelspec": {
   "display_name": "Python 3",
   "language": "python",
   "name": "python3"
  },
  "language_info": {
   "codemirror_mode": {
    "name": "ipython",
    "version": 3
   },
   "file_extension": ".py",
   "mimetype": "text/x-python",
   "name": "python",
   "nbconvert_exporter": "python",
   "pygments_lexer": "ipython3",
   "version": "3.11.2"
  }
 },
 "nbformat": 4,
 "nbformat_minor": 2
}
