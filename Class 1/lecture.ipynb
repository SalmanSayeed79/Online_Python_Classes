{
 "cells": [
  {
   "cell_type": "markdown",
   "metadata": {},
   "source": [
    "#### Classroom application\n",
    "- Enter the classroom with your roll number\n",
    "- Exit classes\n",
    "- See current students"
   ]
  },
  {
   "cell_type": "markdown",
   "metadata": {},
   "source": [
    "## Syllabus upto mid\n",
    "- Variables\n",
    "- Conditionals \n",
    "- Loops \n",
    "- Strings "
   ]
  },
  {
   "cell_type": "markdown",
   "metadata": {},
   "source": []
  },
  {
   "cell_type": "markdown",
   "metadata": {},
   "source": [
    "## Data types\n",
    "INTEGER(4byte),SHORT(2byte),LONG(8byte),LONG LONG(10byte->2^80, -2^79 to 2^79-1) \n",
    "FLOAT(8byte->2^64 ),DOUBLE(10byte->2^80) \n",
    "BOOLEAN(0,1)\n",
    "CHAR (ASCII,Unicode)\n",
    "STRING (A list of chars)\n",
    "\n",
    "Types of data type\n",
    "1. Primitive Data Types\n",
    "    - INT\n",
    "    - FLOAT\n",
    "    - BOOLEAN\n",
    "    - CHAR\n",
    "2. Derived Data\n",
    "    - STRING"
   ]
  },
  {
   "cell_type": "markdown",
   "metadata": {},
   "source": [
    "## LANGUAGE BASED ON DATA TYPES\n",
    "1. Statically typed language [Type of the data/variable is determined during compile time] -> C,C++,C#, Java\n",
    "2. Dynamically typed language [Type of the data/variable is determined during runtime] -> Python, Javascript"
   ]
  },
  {
   "cell_type": "code",
   "execution_count": 2,
   "metadata": {},
   "outputs": [
    {
     "name": "stdout",
     "output_type": "stream",
     "text": [
      "Hello world\n",
      "dasf\n",
      "15\n"
     ]
    }
   ],
   "source": [
    "print(\"Hello world\")#->0101001010101101010101010 \n",
    "a=\"dasf\"\n",
    "print(a)\n",
    "a='adscadsf'\n",
    "print(a)\n"
   ]
  },
  {
   "cell_type": "markdown",
   "metadata": {},
   "source": [
    "### Translators\n",
    "1. Compiler\n",
    "2. Interpreter\n",
    "3. Assembler"
   ]
  }
 ],
 "metadata": {
  "kernelspec": {
   "display_name": "Python 3",
   "language": "python",
   "name": "python3"
  },
  "language_info": {
   "codemirror_mode": {
    "name": "ipython",
    "version": 3
   },
   "file_extension": ".py",
   "mimetype": "text/x-python",
   "name": "python",
   "nbconvert_exporter": "python",
   "pygments_lexer": "ipython3",
   "version": "3.11.2"
  }
 },
 "nbformat": 4,
 "nbformat_minor": 2
}
