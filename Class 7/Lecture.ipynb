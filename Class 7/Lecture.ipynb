{
 "cells": [
  {
   "cell_type": "markdown",
   "metadata": {},
   "source": [
    "## Object Oriented Programming\n",
    "\n",
    "#### Core Concepts\n",
    "1. Encapsulation -> CLASS\n",
    "2. Abstraction -> BLACK_BOX\n",
    "3. Polymorphism -> SAME_NAME DIFF_FUNCTIONALITY\n",
    "4. Inheritence \n"
   ]
  },
  {
   "cell_type": "code",
   "execution_count": 15,
   "metadata": {},
   "outputs": [
    {
     "ename": "TypeError",
     "evalue": "findBirthYear() missing 1 required positional argument: 'currentyear'",
     "output_type": "error",
     "traceback": [
      "\u001b[0;31m---------------------------------------------------------------------------\u001b[0m",
      "\u001b[0;31mTypeError\u001b[0m                                 Traceback (most recent call last)",
      "Cell \u001b[0;32mIn[15], line 25\u001b[0m\n\u001b[1;32m     22\u001b[0m \u001b[38;5;28;01mdef\u001b[39;00m \u001b[38;5;21mfindBirthYear\u001b[39m(age,currentyear):\n\u001b[1;32m     23\u001b[0m     \u001b[38;5;28;01mreturn\u001b[39;00m currentyear\u001b[38;5;241m-\u001b[39mage\n\u001b[0;32m---> 25\u001b[0m \u001b[43mfindBirthYear\u001b[49m\u001b[43m(\u001b[49m\u001b[38;5;241;43m4\u001b[39;49m\u001b[43m)\u001b[49m\n",
      "\u001b[0;31mTypeError\u001b[0m: findBirthYear() missing 1 required positional argument: 'currentyear'"
     ]
    }
   ],
   "source": [
    "def f1(x):\n",
    "    return x**2+4\n",
    "\n",
    "#ip=int(input(\"enter value\"))\n",
    "#ip2=input(\"enter value\")\n",
    "\n",
    "## Variable->Attribute\n",
    "name1=\"Sakib\"\n",
    "age1=25\n",
    "height1=1.76\n",
    "mass1=70\n",
    "## Function->Method\n",
    "def calculateBMI(h,w):\n",
    "    return w/h**2\n",
    "# def calculateBMIAme(h,w):\n",
    "#     w=w*0.2\n",
    "#     h=h*1.6\n",
    "#     return w/h**2\n",
    "def findBirthYear(a):\n",
    "    currentyear=2024\n",
    "    return 2024-a\n",
    "\n",
    "# Latest one gets taken\n",
    "def findBirthYear(age,currentyear):\n",
    "    return currentyear-age\n",
    "\n",
    "# findBirthYear(4) will generate error\n",
    "\n"
   ]
  },
  {
   "cell_type": "code",
   "execution_count": 22,
   "metadata": {},
   "outputs": [
    {
     "name": "stdout",
     "output_type": "stream",
     "text": [
      "sakib\n",
      "25\n"
     ]
    },
    {
     "ename": "AttributeError",
     "evalue": "'Person' object has no attribute '__check'",
     "output_type": "error",
     "traceback": [
      "\u001b[0;31m---------------------------------------------------------------------------\u001b[0m",
      "\u001b[0;31mAttributeError\u001b[0m                            Traceback (most recent call last)",
      "Cell \u001b[0;32mIn[22], line 32\u001b[0m\n\u001b[1;32m     30\u001b[0m \u001b[38;5;28mprint\u001b[39m(sakib\u001b[38;5;241m.\u001b[39mname)\n\u001b[1;32m     31\u001b[0m \u001b[38;5;28mprint\u001b[39m(sakib\u001b[38;5;241m.\u001b[39mage)\n\u001b[0;32m---> 32\u001b[0m \u001b[43msakib\u001b[49m\u001b[38;5;241;43m.\u001b[39;49m\u001b[43m__check\u001b[49m()\n\u001b[1;32m     33\u001b[0m \u001b[38;5;66;03m#print(sakib.__height)\u001b[39;00m\n\u001b[1;32m     34\u001b[0m \u001b[38;5;66;03m#print(sakib.__mass)\u001b[39;00m\n\u001b[1;32m     35\u001b[0m \n\u001b[1;32m     36\u001b[0m \u001b[38;5;66;03m# sakib.show()\u001b[39;00m\n\u001b[1;32m     37\u001b[0m \u001b[38;5;66;03m# sakib.show(1)\u001b[39;00m\n\u001b[1;32m     39\u001b[0m sakib_bmi\u001b[38;5;241m=\u001b[39msakib\u001b[38;5;241m.\u001b[39mcalculateBMI()\n",
      "\u001b[0;31mAttributeError\u001b[0m: 'Person' object has no attribute '__check'"
     ]
    }
   ],
   "source": [
    "class Person:\n",
    "    # Consturctor\n",
    "    def __init__(self,name,age,height,mass):\n",
    "        self.name=name\n",
    "        self.age=age\n",
    "        self.__height=height\n",
    "        self.__mass=mass\n",
    "    \n",
    "    def __check(self):\n",
    "        if(self.age<0): \n",
    "            return True\n",
    "        else:\n",
    "            return False\n",
    "    def __weightMultiplier(self,n):\n",
    "        self.__mass*=n\n",
    "        \n",
    "    def show(self):\n",
    "        self.__weightMultiplier(2)\n",
    "        if(self.__check):\n",
    "            print(\"This person is \",self.name,\" his age is \",self.age)\n",
    "        else:\n",
    "            print(\"This person is \",self.name)\n",
    "            \n",
    "    def calculateBMI(self):\n",
    "        return self.__mass/self.__height**2\n",
    "        \n",
    "# Class vs Object \n",
    "sakib=Person(\"sakib\",25,1.76,70)\n",
    "rahim=Person(\"rahim\",32,1.56,90)\n",
    "\n",
    "karim=Person(\"karim\",-1,-1,-1)\n",
    "\n",
    "print(sakib.name)\n",
    "print(sakib.age)\n",
    "sakib.__check()\n",
    "#print(sakib.__height)\n",
    "#print(sakib.__mass)\n",
    "\n",
    "# sakib.show()\n",
    "# sakib.show(1)\n",
    "\n",
    "sakib_bmi=sakib.calculateBMI()\n",
    "sakib_bmi\n"
   ]
  },
  {
   "cell_type": "markdown",
   "metadata": {},
   "source": [
    "### Attributes\n",
    "1. Private\n",
    "2. Public"
   ]
  },
  {
   "cell_type": "code",
   "execution_count": null,
   "metadata": {},
   "outputs": [],
   "source": []
  }
 ],
 "metadata": {
  "kernelspec": {
   "display_name": "Python 3",
   "language": "python",
   "name": "python3"
  },
  "language_info": {
   "codemirror_mode": {
    "name": "ipython",
    "version": 3
   },
   "file_extension": ".py",
   "mimetype": "text/x-python",
   "name": "python",
   "nbconvert_exporter": "python",
   "pygments_lexer": "ipython3",
   "version": "3.11.2"
  }
 },
 "nbformat": 4,
 "nbformat_minor": 2
}
